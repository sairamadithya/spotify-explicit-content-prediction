{
 "cells": [
  {
   "cell_type": "code",
   "execution_count": 1,
   "id": "288ce91f",
   "metadata": {},
   "outputs": [
    {
     "name": "stderr",
     "output_type": "stream",
     "text": [
      "C:\\Users\\sairam\\anaconda3\\lib\\site-packages\\IPython\\core\\interactiveshell.py:3165: DtypeWarning: Columns (5) have mixed types.Specify dtype option on import or set low_memory=False.\n",
      "  has_raised = await self.run_ast_nodes(code_ast.body, cell_name,\n"
     ]
    },
    {
     "data": {
      "text/html": [
       "<div>\n",
       "<style scoped>\n",
       "    .dataframe tbody tr th:only-of-type {\n",
       "        vertical-align: middle;\n",
       "    }\n",
       "\n",
       "    .dataframe tbody tr th {\n",
       "        vertical-align: top;\n",
       "    }\n",
       "\n",
       "    .dataframe thead th {\n",
       "        text-align: right;\n",
       "    }\n",
       "</style>\n",
       "<table border=\"1\" class=\"dataframe\">\n",
       "  <thead>\n",
       "    <tr style=\"text-align: right;\">\n",
       "      <th></th>\n",
       "      <th>track_id</th>\n",
       "      <th>name</th>\n",
       "      <th>country</th>\n",
       "      <th>date</th>\n",
       "      <th>position</th>\n",
       "      <th>streams</th>\n",
       "      <th>artists</th>\n",
       "      <th>artist_genres</th>\n",
       "      <th>duration</th>\n",
       "      <th>explicit</th>\n",
       "    </tr>\n",
       "  </thead>\n",
       "  <tbody>\n",
       "    <tr>\n",
       "      <th>0</th>\n",
       "      <td>7GMeRGZax4uDKgz6wALWQw</td>\n",
       "      <td>It Was Always You</td>\n",
       "      <td>br</td>\n",
       "      <td>2015-03-17</td>\n",
       "      <td>138</td>\n",
       "      <td>6584</td>\n",
       "      <td>['Maroon 5']</td>\n",
       "      <td>['pop']</td>\n",
       "      <td>239920</td>\n",
       "      <td>False</td>\n",
       "    </tr>\n",
       "    <tr>\n",
       "      <th>1</th>\n",
       "      <td>7GMeRGZax4uDKgz6wALWQw</td>\n",
       "      <td>It Was Always You</td>\n",
       "      <td>br</td>\n",
       "      <td>2015-03-18</td>\n",
       "      <td>132</td>\n",
       "      <td>6963</td>\n",
       "      <td>['Maroon 5']</td>\n",
       "      <td>['pop']</td>\n",
       "      <td>239920</td>\n",
       "      <td>False</td>\n",
       "    </tr>\n",
       "    <tr>\n",
       "      <th>2</th>\n",
       "      <td>7GMeRGZax4uDKgz6wALWQw</td>\n",
       "      <td>It Was Always You</td>\n",
       "      <td>br</td>\n",
       "      <td>2015-03-19</td>\n",
       "      <td>128</td>\n",
       "      <td>7049</td>\n",
       "      <td>['Maroon 5']</td>\n",
       "      <td>['pop']</td>\n",
       "      <td>239920</td>\n",
       "      <td>False</td>\n",
       "    </tr>\n",
       "    <tr>\n",
       "      <th>3</th>\n",
       "      <td>7GMeRGZax4uDKgz6wALWQw</td>\n",
       "      <td>It Was Always You</td>\n",
       "      <td>br</td>\n",
       "      <td>2015-03-20</td>\n",
       "      <td>152</td>\n",
       "      <td>6976</td>\n",
       "      <td>['Maroon 5']</td>\n",
       "      <td>['pop']</td>\n",
       "      <td>239920</td>\n",
       "      <td>False</td>\n",
       "    </tr>\n",
       "    <tr>\n",
       "      <th>4</th>\n",
       "      <td>7GMeRGZax4uDKgz6wALWQw</td>\n",
       "      <td>It Was Always You</td>\n",
       "      <td>br</td>\n",
       "      <td>2015-03-21</td>\n",
       "      <td>160</td>\n",
       "      <td>6156</td>\n",
       "      <td>['Maroon 5']</td>\n",
       "      <td>['pop']</td>\n",
       "      <td>239920</td>\n",
       "      <td>False</td>\n",
       "    </tr>\n",
       "  </tbody>\n",
       "</table>\n",
       "</div>"
      ],
      "text/plain": [
       "                 track_id               name country        date  position  \\\n",
       "0  7GMeRGZax4uDKgz6wALWQw  It Was Always You      br  2015-03-17       138   \n",
       "1  7GMeRGZax4uDKgz6wALWQw  It Was Always You      br  2015-03-18       132   \n",
       "2  7GMeRGZax4uDKgz6wALWQw  It Was Always You      br  2015-03-19       128   \n",
       "3  7GMeRGZax4uDKgz6wALWQw  It Was Always You      br  2015-03-20       152   \n",
       "4  7GMeRGZax4uDKgz6wALWQw  It Was Always You      br  2015-03-21       160   \n",
       "\n",
       "  streams       artists artist_genres  duration  explicit  \n",
       "0    6584  ['Maroon 5']       ['pop']    239920     False  \n",
       "1    6963  ['Maroon 5']       ['pop']    239920     False  \n",
       "2    7049  ['Maroon 5']       ['pop']    239920     False  \n",
       "3    6976  ['Maroon 5']       ['pop']    239920     False  \n",
       "4    6156  ['Maroon 5']       ['pop']    239920     False  "
      ]
     },
     "execution_count": 1,
     "metadata": {},
     "output_type": "execute_result"
    }
   ],
   "source": [
    "import numpy as np\n",
    "import pandas as pd\n",
    "data=pd.read_csv(r\"C:\\Users\\sairam\\Desktop\\data science\\datasets\\spotify dataset.csv\")\n",
    "data.head()"
   ]
  },
  {
   "cell_type": "code",
   "execution_count": 2,
   "id": "b3cb6c80",
   "metadata": {},
   "outputs": [
    {
     "name": "stdout",
     "output_type": "stream",
     "text": [
      "<class 'pandas.core.frame.DataFrame'>\n",
      "RangeIndex: 626475 entries, 0 to 626474\n",
      "Data columns (total 10 columns):\n",
      " #   Column         Non-Null Count   Dtype \n",
      "---  ------         --------------   ----- \n",
      " 0   track_id       626475 non-null  object\n",
      " 1   name           626337 non-null  object\n",
      " 2   country        626475 non-null  object\n",
      " 3   date           626475 non-null  object\n",
      " 4   position       626475 non-null  int64 \n",
      " 5   streams        626475 non-null  object\n",
      " 6   artists        626475 non-null  object\n",
      " 7   artist_genres  626475 non-null  object\n",
      " 8   duration       626475 non-null  int64 \n",
      " 9   explicit       626475 non-null  bool  \n",
      "dtypes: bool(1), int64(2), object(7)\n",
      "memory usage: 43.6+ MB\n"
     ]
    }
   ],
   "source": [
    "data.info()"
   ]
  },
  {
   "cell_type": "code",
   "execution_count": 3,
   "id": "f9e24873",
   "metadata": {},
   "outputs": [
    {
     "name": "stdout",
     "output_type": "stream",
     "text": [
      "<class 'pandas.core.frame.DataFrame'>\n",
      "RangeIndex: 626475 entries, 0 to 626474\n",
      "Data columns (total 8 columns):\n",
      " #   Column         Non-Null Count   Dtype \n",
      "---  ------         --------------   ----- \n",
      " 0   name           626337 non-null  object\n",
      " 1   country        626475 non-null  object\n",
      " 2   date           626475 non-null  object\n",
      " 3   position       626475 non-null  int64 \n",
      " 4   artists        626475 non-null  object\n",
      " 5   artist_genres  626475 non-null  object\n",
      " 6   duration       626475 non-null  int64 \n",
      " 7   explicit       626475 non-null  bool  \n",
      "dtypes: bool(1), int64(2), object(5)\n",
      "memory usage: 34.1+ MB\n"
     ]
    }
   ],
   "source": [
    "data=data.drop(['track_id','streams'],axis=1)\n",
    "data.info()"
   ]
  },
  {
   "cell_type": "code",
   "execution_count": 4,
   "id": "6bebd092",
   "metadata": {},
   "outputs": [
    {
     "data": {
      "text/plain": [
       "(3625,)"
      ]
     },
     "execution_count": 4,
     "metadata": {},
     "output_type": "execute_result"
    }
   ],
   "source": [
    "data['artist_genres'].unique().shape"
   ]
  },
  {
   "cell_type": "code",
   "execution_count": 5,
   "id": "8300bfa3",
   "metadata": {},
   "outputs": [
    {
     "name": "stderr",
     "output_type": "stream",
     "text": [
      "C:\\Users\\sairam\\anaconda3\\lib\\site-packages\\scipy\\__init__.py:138: UserWarning: A NumPy version >=1.16.5 and <1.23.0 is required for this version of SciPy (detected version 1.23.4)\n",
      "  warnings.warn(f\"A NumPy version >={np_minversion} and <{np_maxversion} is required for this version of \"\n"
     ]
    }
   ],
   "source": [
    "from sklearn.preprocessing import LabelEncoder\n",
    "enc=LabelEncoder()\n",
    "data['name']= enc.fit_transform(data['name'])"
   ]
  },
  {
   "cell_type": "code",
   "execution_count": 6,
   "id": "b85a7732",
   "metadata": {},
   "outputs": [],
   "source": [
    "data['country']= enc.fit_transform(data['country'])"
   ]
  },
  {
   "cell_type": "code",
   "execution_count": 7,
   "id": "c3bf8d8b",
   "metadata": {},
   "outputs": [],
   "source": [
    "data['date']= enc.fit_transform(data['date'])"
   ]
  },
  {
   "cell_type": "code",
   "execution_count": 8,
   "id": "53d124fd",
   "metadata": {},
   "outputs": [],
   "source": [
    "data['artists']= enc.fit_transform(data['artists'])"
   ]
  },
  {
   "cell_type": "code",
   "execution_count": 9,
   "id": "2570847f",
   "metadata": {},
   "outputs": [],
   "source": [
    "data['artist_genres']= enc.fit_transform(data['artist_genres'])"
   ]
  },
  {
   "cell_type": "code",
   "execution_count": 10,
   "id": "7ab03f34",
   "metadata": {},
   "outputs": [],
   "source": [
    "data['explicit']= enc.fit_transform(data['explicit'])"
   ]
  },
  {
   "cell_type": "code",
   "execution_count": 11,
   "id": "7e65181c",
   "metadata": {},
   "outputs": [
    {
     "name": "stdout",
     "output_type": "stream",
     "text": [
      "<class 'pandas.core.frame.DataFrame'>\n",
      "RangeIndex: 626475 entries, 0 to 626474\n",
      "Data columns (total 8 columns):\n",
      " #   Column         Non-Null Count   Dtype\n",
      "---  ------         --------------   -----\n",
      " 0   name           626475 non-null  int32\n",
      " 1   country        626475 non-null  int32\n",
      " 2   date           626475 non-null  int32\n",
      " 3   position       626475 non-null  int64\n",
      " 4   artists        626475 non-null  int32\n",
      " 5   artist_genres  626475 non-null  int32\n",
      " 6   duration       626475 non-null  int64\n",
      " 7   explicit       626475 non-null  int64\n",
      "dtypes: int32(5), int64(3)\n",
      "memory usage: 26.3 MB\n"
     ]
    }
   ],
   "source": [
    "#data=data.drop(['streams'],axis=1)\n",
    "data.info()"
   ]
  },
  {
   "cell_type": "code",
   "execution_count": 12,
   "id": "22b17502",
   "metadata": {},
   "outputs": [
    {
     "data": {
      "text/plain": [
       "name             0\n",
       "country          0\n",
       "date             0\n",
       "position         0\n",
       "artists          0\n",
       "artist_genres    0\n",
       "duration         0\n",
       "explicit         0\n",
       "dtype: int64"
      ]
     },
     "execution_count": 12,
     "metadata": {},
     "output_type": "execute_result"
    }
   ],
   "source": [
    "data.isnull().sum()"
   ]
  },
  {
   "cell_type": "code",
   "execution_count": 13,
   "id": "d963fd37",
   "metadata": {},
   "outputs": [
    {
     "data": {
      "text/html": [
       "<div>\n",
       "<style scoped>\n",
       "    .dataframe tbody tr th:only-of-type {\n",
       "        vertical-align: middle;\n",
       "    }\n",
       "\n",
       "    .dataframe tbody tr th {\n",
       "        vertical-align: top;\n",
       "    }\n",
       "\n",
       "    .dataframe thead th {\n",
       "        text-align: right;\n",
       "    }\n",
       "</style>\n",
       "<table border=\"1\" class=\"dataframe\">\n",
       "  <thead>\n",
       "    <tr style=\"text-align: right;\">\n",
       "      <th></th>\n",
       "      <th>name</th>\n",
       "      <th>country</th>\n",
       "      <th>date</th>\n",
       "      <th>position</th>\n",
       "      <th>artists</th>\n",
       "      <th>artist_genres</th>\n",
       "      <th>duration</th>\n",
       "      <th>explicit</th>\n",
       "    </tr>\n",
       "  </thead>\n",
       "  <tbody>\n",
       "    <tr>\n",
       "      <th>0</th>\n",
       "      <td>0.422381</td>\n",
       "      <td>0.1</td>\n",
       "      <td>0.056133</td>\n",
       "      <td>0.688442</td>\n",
       "      <td>0.600237</td>\n",
       "      <td>0.654249</td>\n",
       "      <td>0.25428</td>\n",
       "      <td>0.0</td>\n",
       "    </tr>\n",
       "    <tr>\n",
       "      <th>1</th>\n",
       "      <td>0.422381</td>\n",
       "      <td>0.1</td>\n",
       "      <td>0.056480</td>\n",
       "      <td>0.658291</td>\n",
       "      <td>0.600237</td>\n",
       "      <td>0.654249</td>\n",
       "      <td>0.25428</td>\n",
       "      <td>0.0</td>\n",
       "    </tr>\n",
       "    <tr>\n",
       "      <th>2</th>\n",
       "      <td>0.422381</td>\n",
       "      <td>0.1</td>\n",
       "      <td>0.056826</td>\n",
       "      <td>0.638191</td>\n",
       "      <td>0.600237</td>\n",
       "      <td>0.654249</td>\n",
       "      <td>0.25428</td>\n",
       "      <td>0.0</td>\n",
       "    </tr>\n",
       "    <tr>\n",
       "      <th>3</th>\n",
       "      <td>0.422381</td>\n",
       "      <td>0.1</td>\n",
       "      <td>0.057173</td>\n",
       "      <td>0.758794</td>\n",
       "      <td>0.600237</td>\n",
       "      <td>0.654249</td>\n",
       "      <td>0.25428</td>\n",
       "      <td>0.0</td>\n",
       "    </tr>\n",
       "    <tr>\n",
       "      <th>4</th>\n",
       "      <td>0.422381</td>\n",
       "      <td>0.1</td>\n",
       "      <td>0.057519</td>\n",
       "      <td>0.798995</td>\n",
       "      <td>0.600237</td>\n",
       "      <td>0.654249</td>\n",
       "      <td>0.25428</td>\n",
       "      <td>0.0</td>\n",
       "    </tr>\n",
       "  </tbody>\n",
       "</table>\n",
       "</div>"
      ],
      "text/plain": [
       "       name  country      date  position   artists  artist_genres  duration  \\\n",
       "0  0.422381      0.1  0.056133  0.688442  0.600237       0.654249   0.25428   \n",
       "1  0.422381      0.1  0.056480  0.658291  0.600237       0.654249   0.25428   \n",
       "2  0.422381      0.1  0.056826  0.638191  0.600237       0.654249   0.25428   \n",
       "3  0.422381      0.1  0.057173  0.758794  0.600237       0.654249   0.25428   \n",
       "4  0.422381      0.1  0.057519  0.798995  0.600237       0.654249   0.25428   \n",
       "\n",
       "   explicit  \n",
       "0       0.0  \n",
       "1       0.0  \n",
       "2       0.0  \n",
       "3       0.0  \n",
       "4       0.0  "
      ]
     },
     "execution_count": 13,
     "metadata": {},
     "output_type": "execute_result"
    }
   ],
   "source": [
    "for x in data.columns:\n",
    "    data[x]= (data[x]-data[x].min())/(data[x].max()-data[x].min())\n",
    "data.head()"
   ]
  },
  {
   "cell_type": "code",
   "execution_count": 14,
   "id": "72a2619b",
   "metadata": {},
   "outputs": [],
   "source": [
    "y=data['explicit']\n",
    "x=data.drop(['explicit'],axis=1)"
   ]
  },
  {
   "cell_type": "code",
   "execution_count": 19,
   "id": "b8938695",
   "metadata": {},
   "outputs": [],
   "source": [
    "from sklearn.model_selection import train_test_split\n",
    "X_train,X_test,y_train,y_test= train_test_split(x,y,test_size=0.2,stratify=y)"
   ]
  },
  {
   "cell_type": "code",
   "execution_count": 20,
   "id": "f581b397",
   "metadata": {},
   "outputs": [
    {
     "data": {
      "text/html": [
       "<style>#sk-container-id-2 {color: black;background-color: white;}#sk-container-id-2 pre{padding: 0;}#sk-container-id-2 div.sk-toggleable {background-color: white;}#sk-container-id-2 label.sk-toggleable__label {cursor: pointer;display: block;width: 100%;margin-bottom: 0;padding: 0.3em;box-sizing: border-box;text-align: center;}#sk-container-id-2 label.sk-toggleable__label-arrow:before {content: \"▸\";float: left;margin-right: 0.25em;color: #696969;}#sk-container-id-2 label.sk-toggleable__label-arrow:hover:before {color: black;}#sk-container-id-2 div.sk-estimator:hover label.sk-toggleable__label-arrow:before {color: black;}#sk-container-id-2 div.sk-toggleable__content {max-height: 0;max-width: 0;overflow: hidden;text-align: left;background-color: #f0f8ff;}#sk-container-id-2 div.sk-toggleable__content pre {margin: 0.2em;color: black;border-radius: 0.25em;background-color: #f0f8ff;}#sk-container-id-2 input.sk-toggleable__control:checked~div.sk-toggleable__content {max-height: 200px;max-width: 100%;overflow: auto;}#sk-container-id-2 input.sk-toggleable__control:checked~label.sk-toggleable__label-arrow:before {content: \"▾\";}#sk-container-id-2 div.sk-estimator input.sk-toggleable__control:checked~label.sk-toggleable__label {background-color: #d4ebff;}#sk-container-id-2 div.sk-label input.sk-toggleable__control:checked~label.sk-toggleable__label {background-color: #d4ebff;}#sk-container-id-2 input.sk-hidden--visually {border: 0;clip: rect(1px 1px 1px 1px);clip: rect(1px, 1px, 1px, 1px);height: 1px;margin: -1px;overflow: hidden;padding: 0;position: absolute;width: 1px;}#sk-container-id-2 div.sk-estimator {font-family: monospace;background-color: #f0f8ff;border: 1px dotted black;border-radius: 0.25em;box-sizing: border-box;margin-bottom: 0.5em;}#sk-container-id-2 div.sk-estimator:hover {background-color: #d4ebff;}#sk-container-id-2 div.sk-parallel-item::after {content: \"\";width: 100%;border-bottom: 1px solid gray;flex-grow: 1;}#sk-container-id-2 div.sk-label:hover label.sk-toggleable__label {background-color: #d4ebff;}#sk-container-id-2 div.sk-serial::before {content: \"\";position: absolute;border-left: 1px solid gray;box-sizing: border-box;top: 0;bottom: 0;left: 50%;z-index: 0;}#sk-container-id-2 div.sk-serial {display: flex;flex-direction: column;align-items: center;background-color: white;padding-right: 0.2em;padding-left: 0.2em;position: relative;}#sk-container-id-2 div.sk-item {position: relative;z-index: 1;}#sk-container-id-2 div.sk-parallel {display: flex;align-items: stretch;justify-content: center;background-color: white;position: relative;}#sk-container-id-2 div.sk-item::before, #sk-container-id-2 div.sk-parallel-item::before {content: \"\";position: absolute;border-left: 1px solid gray;box-sizing: border-box;top: 0;bottom: 0;left: 50%;z-index: -1;}#sk-container-id-2 div.sk-parallel-item {display: flex;flex-direction: column;z-index: 1;position: relative;background-color: white;}#sk-container-id-2 div.sk-parallel-item:first-child::after {align-self: flex-end;width: 50%;}#sk-container-id-2 div.sk-parallel-item:last-child::after {align-self: flex-start;width: 50%;}#sk-container-id-2 div.sk-parallel-item:only-child::after {width: 0;}#sk-container-id-2 div.sk-dashed-wrapped {border: 1px dashed gray;margin: 0 0.4em 0.5em 0.4em;box-sizing: border-box;padding-bottom: 0.4em;background-color: white;}#sk-container-id-2 div.sk-label label {font-family: monospace;font-weight: bold;display: inline-block;line-height: 1.2em;}#sk-container-id-2 div.sk-label-container {text-align: center;}#sk-container-id-2 div.sk-container {/* jupyter's `normalize.less` sets `[hidden] { display: none; }` but bootstrap.min.css set `[hidden] { display: none !important; }` so we also need the `!important` here to be able to override the default hidden behavior on the sphinx rendered scikit-learn.org. See: https://github.com/scikit-learn/scikit-learn/issues/21755 */display: inline-block !important;position: relative;}#sk-container-id-2 div.sk-text-repr-fallback {display: none;}</style><div id=\"sk-container-id-2\" class=\"sk-top-container\"><div class=\"sk-text-repr-fallback\"><pre>XGBClassifier(base_score=0.5, booster=&#x27;gbtree&#x27;, callbacks=None,\n",
       "              colsample_bylevel=1, colsample_bynode=1, colsample_bytree=1,\n",
       "              early_stopping_rounds=None, enable_categorical=False,\n",
       "              eval_metric=None, gamma=0, gpu_id=-1, grow_policy=&#x27;depthwise&#x27;,\n",
       "              importance_type=None, interaction_constraints=&#x27;&#x27;,\n",
       "              learning_rate=0.300000012, max_bin=256, max_cat_to_onehot=4,\n",
       "              max_delta_step=0, max_depth=6, max_leaves=0, min_child_weight=1,\n",
       "              missing=nan, monotone_constraints=&#x27;()&#x27;, n_estimators=100,\n",
       "              n_jobs=0, num_parallel_tree=1, predictor=&#x27;auto&#x27;, random_state=0,\n",
       "              reg_alpha=0, reg_lambda=1, ...)</pre><b>In a Jupyter environment, please rerun this cell to show the HTML representation or trust the notebook. <br />On GitHub, the HTML representation is unable to render, please try loading this page with nbviewer.org.</b></div><div class=\"sk-container\" hidden><div class=\"sk-item\"><div class=\"sk-estimator sk-toggleable\"><input class=\"sk-toggleable__control sk-hidden--visually\" id=\"sk-estimator-id-2\" type=\"checkbox\" checked><label for=\"sk-estimator-id-2\" class=\"sk-toggleable__label sk-toggleable__label-arrow\">XGBClassifier</label><div class=\"sk-toggleable__content\"><pre>XGBClassifier(base_score=0.5, booster=&#x27;gbtree&#x27;, callbacks=None,\n",
       "              colsample_bylevel=1, colsample_bynode=1, colsample_bytree=1,\n",
       "              early_stopping_rounds=None, enable_categorical=False,\n",
       "              eval_metric=None, gamma=0, gpu_id=-1, grow_policy=&#x27;depthwise&#x27;,\n",
       "              importance_type=None, interaction_constraints=&#x27;&#x27;,\n",
       "              learning_rate=0.300000012, max_bin=256, max_cat_to_onehot=4,\n",
       "              max_delta_step=0, max_depth=6, max_leaves=0, min_child_weight=1,\n",
       "              missing=nan, monotone_constraints=&#x27;()&#x27;, n_estimators=100,\n",
       "              n_jobs=0, num_parallel_tree=1, predictor=&#x27;auto&#x27;, random_state=0,\n",
       "              reg_alpha=0, reg_lambda=1, ...)</pre></div></div></div></div></div>"
      ],
      "text/plain": [
       "XGBClassifier(base_score=0.5, booster='gbtree', callbacks=None,\n",
       "              colsample_bylevel=1, colsample_bynode=1, colsample_bytree=1,\n",
       "              early_stopping_rounds=None, enable_categorical=False,\n",
       "              eval_metric=None, gamma=0, gpu_id=-1, grow_policy='depthwise',\n",
       "              importance_type=None, interaction_constraints='',\n",
       "              learning_rate=0.300000012, max_bin=256, max_cat_to_onehot=4,\n",
       "              max_delta_step=0, max_depth=6, max_leaves=0, min_child_weight=1,\n",
       "              missing=nan, monotone_constraints='()', n_estimators=100,\n",
       "              n_jobs=0, num_parallel_tree=1, predictor='auto', random_state=0,\n",
       "              reg_alpha=0, reg_lambda=1, ...)"
      ]
     },
     "execution_count": 20,
     "metadata": {},
     "output_type": "execute_result"
    }
   ],
   "source": [
    "from xgboost import XGBClassifier\n",
    "svc_model=XGBClassifier()\n",
    "svc_model.fit(X_train,y_train)"
   ]
  },
  {
   "cell_type": "code",
   "execution_count": 21,
   "id": "311d8479",
   "metadata": {},
   "outputs": [
    {
     "name": "stdout",
     "output_type": "stream",
     "text": [
      "Training confusion matrix\n",
      "[[291779   2522]\n",
      " [  3303 203576]]\n",
      "Testing confusion matrix\n",
      "[[72901   674]\n",
      " [  884 50836]]\n",
      "0.9883774292669301\n",
      "0.9875653457839498\n",
      "Train set:501180\n",
      "Train Accuracy=98.83774292669301%\n",
      "Test set:125295\n",
      "Test Accuracy=98.75653457839498%\n"
     ]
    }
   ],
   "source": [
    "from sklearn.metrics import accuracy_score, confusion_matrix\n",
    "predictions= svc_model .predict(X_train)\n",
    "percentage=svc_model.score(X_train,y_train)\n",
    "res=confusion_matrix(y_train,predictions)\n",
    "print(\"Training confusion matrix\")\n",
    "print(res)\n",
    "predictions= svc_model .predict(X_test)\n",
    "train_percentage=svc_model.score(X_train,y_train)\n",
    "test_percentage=svc_model.score(X_test,y_test)\n",
    "res=confusion_matrix(y_test,predictions)\n",
    "print(\"Testing confusion matrix\")\n",
    "print(res)\n",
    "# check the accuracy on the training set\n",
    "print(svc_model.score(X_train, y_train))\n",
    "print(svc_model.score(X_test, y_test))\n",
    "print(f\"Train set:{len(X_train)}\")\n",
    "print(f\"Train Accuracy={train_percentage*100}%\")\n",
    "print(f\"Test set:{len(X_test)}\")\n",
    "print(f\"Test Accuracy={test_percentage*100}%\")"
   ]
  },
  {
   "cell_type": "code",
   "execution_count": 22,
   "id": "5727e5be",
   "metadata": {},
   "outputs": [
    {
     "data": {
      "text/plain": [
       "0.0    367876\n",
       "1.0    258599\n",
       "Name: explicit, dtype: int64"
      ]
     },
     "execution_count": 22,
     "metadata": {},
     "output_type": "execute_result"
    }
   ],
   "source": [
    "data['explicit'].value_counts()"
   ]
  }
 ],
 "metadata": {
  "kernelspec": {
   "display_name": "Python 3",
   "language": "python",
   "name": "python3"
  },
  "language_info": {
   "codemirror_mode": {
    "name": "ipython",
    "version": 3
   },
   "file_extension": ".py",
   "mimetype": "text/x-python",
   "name": "python",
   "nbconvert_exporter": "python",
   "pygments_lexer": "ipython3",
   "version": "3.8.8"
  }
 },
 "nbformat": 4,
 "nbformat_minor": 5
}
